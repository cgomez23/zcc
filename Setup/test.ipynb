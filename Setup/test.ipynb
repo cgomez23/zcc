{
 "cells": [
  {
   "cell_type": "code",
   "execution_count": 50,
   "source": [
    "\r\n",
    "import requests as r\r\n",
    "import datetime\r\n",
    "\r\n",
    "url = 'https://zcclosgomez.zendesk.com/api/v2/tickets.json'\r\n",
    "r.get(url).text"
   ],
   "outputs": [
    {
     "output_type": "execute_result",
     "data": {
      "text/plain": [
       "'{\"error\":\"Couldn\\'t authenticate you\"}'"
      ]
     },
     "metadata": {},
     "execution_count": 50
    }
   ],
   "metadata": {}
  },
  {
   "cell_type": "code",
   "execution_count": 2,
   "source": [
    "from zenpy import Zenpy\r\n",
    "import json\r\n",
    "\r\n",
    "creds = json.load(open('../creds.json'))\r\n",
    "\r\n",
    "zenpy_client = Zenpy(**creds)\r\n",
    "# print(vars(zenpy_client.tickets()))\r\n",
    "\r\n",
    "# yesterday = datetime.datetime.now() - datetime.timedelta(days=1)\r\n",
    "# result_generator = zenpy_client.users.incremental(start_time=yesterday)\r\n",
    "# for user in result_generator:\r\n",
    "#     print(user.id)\r\n",
    "for ticket in zenpy_client.tickets(include=['users'])[:4]:\r\n",
    "    print(ticket.id)\r\n"
   ],
   "outputs": [
    {
     "output_type": "stream",
     "name": "stdout",
     "text": [
      "1\n",
      "2\n",
      "3\n",
      "4\n"
     ]
    }
   ],
   "metadata": {}
  },
  {
   "cell_type": "code",
   "execution_count": 58,
   "source": [
    "# from zenpy.lib.api_objects import Ticket\r\n",
    "# obj = json.load(open('ticket.json'))\r\n",
    "# tickets = obj['tickets']\r\n",
    "# zenpy_client.tickets.create(\r\n",
    "#     [Ticket(requester_id=t['requester_id'], \r\n",
    "#             assignee_id= t['assignee_id'],\r\n",
    "#             subject=t['subject'],\r\n",
    "#             description=t['description'],\r\n",
    "#             tags=t['tags']) for t in tickets]\r\n",
    "# )\r\n",
    "users = zenpy_client.users()\r\n",
    "for user in users:\r\n",
    "    print(user.id)"
   ],
   "outputs": [
    {
     "output_type": "stream",
     "name": "stdout",
     "text": [
      "418740978252\n",
      "1900361161107\n"
     ]
    }
   ],
   "metadata": {}
  },
  {
   "cell_type": "code",
   "execution_count": 3,
   "source": [
    "import sys\r\n",
    "# insert at 1, 0 is the script path (or '' in REPL)\r\n",
    "sys.path.insert(1, r'C:\\Users\\carlo\\Documents\\College\\College Docs\\Jobs 2021\\Zendesk\\coding-challenge')\r\n",
    "\r\n",
    "from Models.ticket import Ticket_View\r\n",
    "\r\n",
    "from zenpy import Zenpy\r\n",
    "import json\r\n",
    "\r\n",
    "creds = json.load(open(r'C:\\Users\\carlo\\Documents\\College\\College Docs\\Jobs 2021\\Zendesk\\coding-challenge\\config.json'))\r\n",
    "zenpy_client = Zenpy(**creds)\r\n",
    "\r\n",
    "tickets = []\r\n",
    "users_names_and_ids = []\r\n",
    "list_len = 0\r\n",
    "headers = []\r\n",
    "ticket_view_list = []\r\n",
    "\r\n",
    "def start():\r\n",
    "    global users_names_and_ids\r\n",
    "    global tickets\r\n",
    "    global list_len\r\n",
    "    global headers\r\n",
    "    global ticket_view_list\r\n",
    "    tickets = zenpy_client.tickets(include=['users'])\r\n",
    "\r\n",
    "    users = zenpy_client.users()\r\n",
    "    users_names_and_ids = [(u.id, u.name) for u in users]\r\n",
    "\r\n",
    "    ticket_view_list = [(t.id, t.subject) for t in tickets]\r\n",
    "    list_len = len(ticket_view_list)\r\n",
    "\r\n",
    "    headers = ['Ticket Number', 'Subject']\r\n",
    "\r\n",
    "def get_ticket_view(id):\r\n",
    "    ticket = [t for t in tickets if t.id == id][0]\r\n",
    "    requestor_name = [u.name for u in users_names_and_ids if u.id == ticket.requester_id][0]\r\n",
    "    view = Ticket_View(requestor_name, ticket.subject, ticket.description)\r\n",
    "    return view\r\n",
    "\r\n",
    "start()"
   ],
   "outputs": [],
   "metadata": {}
  },
  {
   "cell_type": "code",
   "execution_count": 4,
   "source": [
    "len(ticket_view_list)"
   ],
   "outputs": [
    {
     "output_type": "execute_result",
     "data": {
      "text/plain": [
       "203"
      ]
     },
     "metadata": {},
     "execution_count": 4
    }
   ],
   "metadata": {}
  }
 ],
 "metadata": {
  "orig_nbformat": 4,
  "language_info": {
   "name": "python",
   "version": "3.8.6rc1",
   "mimetype": "text/x-python",
   "codemirror_mode": {
    "name": "ipython",
    "version": 3
   },
   "pygments_lexer": "ipython3",
   "nbconvert_exporter": "python",
   "file_extension": ".py"
  },
  "kernelspec": {
   "name": "python3",
   "display_name": "Python 3.8.6rc1 64-bit"
  },
  "interpreter": {
   "hash": "24b480431558bd6270bf8e2dc4c7080d28b8c31c934dd629022acb274fa9e3cd"
  }
 },
 "nbformat": 4,
 "nbformat_minor": 2
}